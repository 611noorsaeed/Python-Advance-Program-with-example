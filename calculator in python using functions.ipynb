{
 "cells": [
  {
   "cell_type": "markdown",
   "id": "ace88eef",
   "metadata": {},
   "source": [
    "# Program: 1\n",
    "# calculator in python using functions"
   ]
  },
  {
   "cell_type": "code",
   "execution_count": 1,
   "id": "4ef01253",
   "metadata": {},
   "outputs": [],
   "source": [
    "def add():\n",
    "    num1 = float(input('Enter 1st value'))\n",
    "    num2 = float(input(\"Enter 2nd value\"))\n",
    "    return num1 + num2\n",
    "def sub():\n",
    "    num1 = float(input('Enter 1st value'))\n",
    "    num2 = float(input(\"Enter 2nd value\"))\n",
    "    return num1 - num2\n",
    "def mult():\n",
    "    num1 = float(input('Enter 1st value'))\n",
    "    num2 = float(input(\"Enter 2nd value\"))\n",
    "    return num1 * num2\n",
    "def div():\n",
    "    num1 = float(input('Enter 1st value'))\n",
    "    num2 = float(input(\"Enter 2nd value\"))\n",
    "    return num1 / num2"
   ]
  },
  {
   "cell_type": "code",
   "execution_count": null,
   "id": "597cd838",
   "metadata": {},
   "outputs": [
    {
     "name": "stdout",
     "output_type": "stream",
     "text": [
      "1\n",
      " Add \n",
      "2 sub \n",
      "3 mult \n",
      "4 div1\n",
      "Enter 1st value20\n",
      "Enter 2nd value50\n",
      "Addtions  70.0\n",
      "1\n",
      " Add \n",
      "2 sub \n",
      "3 mult \n",
      "4 div4\n",
      "Enter 1st value3\n",
      "Enter 2nd value3\n",
      "division  1.0\n",
      "1\n",
      " Add \n",
      "2 sub \n",
      "3 mult \n",
      "4 div2\n",
      "Enter 1st value20\n",
      "Enter 2nd value10\n",
      "substraction  10.0\n"
     ]
    }
   ],
   "source": [
    "if __name__ ==\"__main__\":\n",
    "    while True:\n",
    "        select = int(input(\"1\\n Add \\n2 sub \\n3 mult \\n4 div\"))\n",
    "        if select == 1:\n",
    "            print(\"Addtions \", add())\n",
    "        elif select == 2:\n",
    "            print(\"substraction \", sub())\n",
    "        elif select == 3:\n",
    "            print(\"multiplication \", mult())\n",
    "        elif select == 4:\n",
    "            print(\"division \", div())\n",
    "        else:\n",
    "            print(\"Incorrect selection try again\")"
   ]
  },
  {
   "cell_type": "code",
   "execution_count": null,
   "id": "2504c398",
   "metadata": {},
   "outputs": [],
   "source": []
  }
 ],
 "metadata": {
  "kernelspec": {
   "display_name": "Python 3 (ipykernel)",
   "language": "python",
   "name": "python3"
  },
  "language_info": {
   "codemirror_mode": {
    "name": "ipython",
    "version": 3
   },
   "file_extension": ".py",
   "mimetype": "text/x-python",
   "name": "python",
   "nbconvert_exporter": "python",
   "pygments_lexer": "ipython3",
   "version": "3.10.6"
  }
 },
 "nbformat": 4,
 "nbformat_minor": 5
}
