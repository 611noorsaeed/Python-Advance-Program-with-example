{
 "cells": [
  {
   "cell_type": "markdown",
   "id": "5b831596",
   "metadata": {},
   "source": [
    "# Program: 2:\n",
    "# Write a program which will find all such numbers which are divisible by 7 but are not a multiple of 5,between 2000 and 3200 (both included).\n",
    "# 1 Define Range of numbers\n",
    "# 2 Select proper loop\n",
    "# 3 Use Selection Statement"
   ]
  },
  {
   "cell_type": "code",
   "execution_count": 12,
   "id": "73de391f",
   "metadata": {},
   "outputs": [],
   "source": [
    "num1 = 2000\n",
    "num2 = 3200\n",
    "\n",
    "def test(a,b):\n",
    "    lst = []\n",
    "    for i in range(a,b):\n",
    "        if (i%7==0) and (i%5!=0):\n",
    "            lst.append(str(i))\n",
    "    return \",\".join(lst)"
   ]
  },
  {
   "cell_type": "code",
   "execution_count": null,
   "id": "a0a0dc31",
   "metadata": {},
   "outputs": [],
   "source": [
    "result = test(num1,num2)\n",
    "pr"
   ]
  }
 ],
 "metadata": {
  "kernelspec": {
   "display_name": "Python 3 (ipykernel)",
   "language": "python",
   "name": "python3"
  },
  "language_info": {
   "codemirror_mode": {
    "name": "ipython",
    "version": 3
   },
   "file_extension": ".py",
   "mimetype": "text/x-python",
   "name": "python",
   "nbconvert_exporter": "python",
   "pygments_lexer": "ipython3",
   "version": "3.10.6"
  }
 },
 "nbformat": 4,
 "nbformat_minor": 5
}
